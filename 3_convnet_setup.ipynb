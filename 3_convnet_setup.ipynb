{
 "cells": [
  {
   "cell_type": "code",
   "execution_count": 1,
   "metadata": {},
   "outputs": [],
   "source": [
    "import nibabel as nib\n",
    "import imageio\n",
    "import torch\n",
    "import matplotlib.pyplot as plt\n",
    "from torch.utils.data.dataset import Dataset\n",
    "from torchvision.transforms import Compose\n",
    "from pathlib import Path\n",
    "import numpy as np\n",
    "from fastcore.utils import *\n",
    "\n",
    "from data import dataset, dataloaders, transforms \n",
    "%matplotlib inline\n",
    "%load_ext autoreload\n",
    "%autoreload 2"
   ]
  },
  {
   "cell_type": "code",
   "execution_count": 51,
   "metadata": {},
   "outputs": [],
   "source": [
    "from torch import nn\n",
    "\n",
    "class Net(nn.Module):\n",
    "    def __init__(self, in_channels=1):\n",
    "        super().__init__()\n",
    "        self.encoder = nn.Sequential(\n",
    "            self.conv_block(in_channels=in_channels, out_channels=16, kernel_size=3, stride=1, output_size=(60,60,45)),\n",
    "            self.conv_block(in_channels=16, out_channels=32, kernel_size=3, stride=1, output_size=(30,30,23)),\n",
    "        )\n",
    "        self.decoder = nn.Sequential(\n",
    "            self.deconv_block(32, 16, kernel_size=3, stride=2,padding=(1, 1, 1),  output_padding=1),\n",
    "            self.deconv_block(16, 1, kernel_size=3, stride=2, padding=(1, 1, 2), output_padding=1)\n",
    "        )\n",
    "        # fill this in, add conv. layers here\n",
    "    \n",
    "    def conv_block(self, in_channels, out_channels, kernel_size, stride, output_size):\n",
    "        return nn.Sequential(\n",
    "            nn.Conv3d(in_channels=in_channels, out_channels=out_channels, kernel_size=kernel_size, stride=stride),\n",
    "            nn.ReLU(),\n",
    "            nn.AdaptiveMaxPool3d(output_size),\n",
    "        )\n",
    "    def deconv_block(self, in_channels, out_channels, kernel_size, stride, padding, output_padding):\n",
    "        return nn.Sequential(\n",
    "            nn.ConvTranspose3d(in_channels, out_channels, kernel_size, stride, padding=padding, output_padding=output_padding),\n",
    "            nn.ReLU(),\n",
    "        )\n",
    "    def forward(self, x):\n",
    "        x = self.encoder(x)\n",
    "#         print(x.shape)\n",
    "        x = self.decoder(x)\n",
    "#         print(x.shape)\n",
    "        x = torch.sigmoid(x)\n",
    "        return x"
   ]
  },
  {
   "cell_type": "code",
   "execution_count": 52,
   "metadata": {},
   "outputs": [],
   "source": [
    "model = Net()"
   ]
  },
  {
   "cell_type": "code",
   "execution_count": 53,
   "metadata": {},
   "outputs": [
    {
     "data": {
      "text/plain": [
       "Net(\n",
       "  (encoder): Sequential(\n",
       "    (0): Sequential(\n",
       "      (0): Conv3d(1, 16, kernel_size=(3, 3, 3), stride=(1, 1, 1))\n",
       "      (1): ReLU()\n",
       "      (2): AdaptiveMaxPool3d(output_size=(60, 60, 45))\n",
       "    )\n",
       "    (1): Sequential(\n",
       "      (0): Conv3d(16, 32, kernel_size=(3, 3, 3), stride=(1, 1, 1))\n",
       "      (1): ReLU()\n",
       "      (2): AdaptiveMaxPool3d(output_size=(30, 30, 23))\n",
       "    )\n",
       "  )\n",
       "  (decoder): Sequential(\n",
       "    (0): Sequential(\n",
       "      (0): ConvTranspose3d(32, 16, kernel_size=(3, 3, 3), stride=(2, 2, 2), padding=(1, 1, 1), output_padding=(1, 1, 1))\n",
       "      (1): ReLU()\n",
       "    )\n",
       "    (1): Sequential(\n",
       "      (0): ConvTranspose3d(16, 1, kernel_size=(3, 3, 3), stride=(2, 2, 2), padding=(1, 1, 2), output_padding=(1, 1, 1))\n",
       "      (1): ReLU()\n",
       "    )\n",
       "  )\n",
       ")"
      ]
     },
     "execution_count": 53,
     "metadata": {},
     "output_type": "execute_result"
    }
   ],
   "source": [
    "model"
   ]
  },
  {
   "cell_type": "code",
   "execution_count": 54,
   "metadata": {},
   "outputs": [],
   "source": [
    "data_dir = Path(\"/media/wwymak/Storage/ixi_brain_images/small\")\n",
    "transform=Compose([\n",
    "   transforms.ToTensor()\n",
    "])\n",
    "nifti_dataloader = dataloaders.get_dataloader(source_directory=data_dir/'t1',target_directory=data_dir/'t2', transforms=transform)\n",
    "\n",
    "test_batch = next(iter(nifti_dataloader))"
   ]
  },
  {
   "cell_type": "code",
   "execution_count": 55,
   "metadata": {},
   "outputs": [
    {
     "name": "stdout",
     "output_type": "stream",
     "text": [
      "torch.Size([8, 32, 30, 30, 23])\n",
      "torch.Size([8, 1, 120, 120, 90])\n"
     ]
    }
   ],
   "source": [
    "output = model(test_batch['t1'].float())"
   ]
  },
  {
   "cell_type": "markdown",
   "metadata": {},
   "source": [
    "```d_out = (d_in -1) * stride - 2 * padding + dilation *( kernel_size -1) + output_padding + 1\n",
    "d_out = 29 * 2 - 2 * 1 + 1 * 2 + 1 ```"
   ]
  },
  {
   "cell_type": "code",
   "execution_count": null,
   "metadata": {},
   "outputs": [],
   "source": []
  }
 ],
 "metadata": {
  "kernelspec": {
   "display_name": "Python [conda env:immo-ml]",
   "language": "python",
   "name": "conda-env-immo-ml-py"
  },
  "language_info": {
   "codemirror_mode": {
    "name": "ipython",
    "version": 3
   },
   "file_extension": ".py",
   "mimetype": "text/x-python",
   "name": "python",
   "nbconvert_exporter": "python",
   "pygments_lexer": "ipython3",
   "version": "3.7.6"
  }
 },
 "nbformat": 4,
 "nbformat_minor": 2
}
